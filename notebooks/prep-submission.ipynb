{
 "cells": [
  {
   "cell_type": "code",
   "execution_count": 1,
   "metadata": {},
   "outputs": [],
   "source": [
    "import sys\n",
    "sys.path.append('/Users/jsh/code/drivendata/spacecrafts/')\n",
    "import shutil\n",
    "from pathlib import Path\n",
    "import pandas as pd\n",
    "import torch\n",
    "import torchvision\n",
    "from torchvision.models.detection.faster_rcnn import FastRCNNPredictor\n",
    "import pytorch_lightning as L\n",
    "from submission_src.spacecraft_datamodule import SpacecraftDataModule, SpacecraftDataModule, collate_fn\n",
    "from submission_src.spacecraft_model import SpacecraftModel\n",
    "from submission_src.MyFasterRCNN import MyFasterRCNN"
   ]
  },
  {
   "cell_type": "code",
   "execution_count": 2,
   "metadata": {},
   "outputs": [],
   "source": [
    "# Set configuration variables\n",
    "PROJ_DIRECTORY = Path.cwd().parent\n",
    "DATA_DIRECTORY = PROJ_DIRECTORY / \"data\"\n",
    "DEV_DIRECTORY = PROJ_DIRECTORY / \"data_dev\"\n",
    "IMAGES_DIRECTORY = DEV_DIRECTORY / \"images\"\n",
    "SUBMISSION_SRC_DIR = PROJ_DIRECTORY / \"submission_src\"\n",
    "IMAGE_SIZE = (1280, 1024)\n",
    "IMAGE_RESIZE_SCALE = (1/8)\n",
    "IMAGE_RESIZED = (int(IMAGE_SIZE[0]*IMAGE_RESIZE_SCALE), int(IMAGE_SIZE[1]*IMAGE_RESIZE_SCALE))\n",
    "VALIDATION_IDS_PATH = PROJ_DIRECTORY / 'notebooks' / 'validation_ids.csv'"
   ]
  },
  {
   "cell_type": "code",
   "execution_count": 3,
   "metadata": {},
   "outputs": [],
   "source": [
    "# Import img ids for validation set used on Kaggle.\n",
    "validation_ids = pd.read_csv(VALIDATION_IDS_PATH)['0'].tolist()\n",
    "\n",
    "# Move validation set images to data/images directory.\n",
    "dest_dir = DATA_DIRECTORY / \"images\"\n",
    "if not dest_dir.exists():\n",
    "    dest_dir.mkdir(parents=True, exist_ok=True)\n",
    "\n",
    "for img in validation_ids:\n",
    "    shutil.copy2(IMAGES_DIRECTORY / f\"{img}.png\", dest_dir / f\"{img}.png\")\n",
    "\n",
    "# Create submission_format file that corresponds to the validation set.\n",
    "submission_format = pd.read_csv(DEV_DIRECTORY / \"submission_format.csv\", index_col=\"image_id\")\n",
    "submission_format_val = submission_format.loc[validation_ids]\n",
    "submission_format_val.to_csv(DATA_DIRECTORY / \"submission_format.csv\")\n",
    "\n",
    "# Create train_labels file that corresponds to the validation set.\n",
    "train_labels = pd.read_csv(DEV_DIRECTORY / \"train_labels.csv\", index_col=\"image_id\")\n",
    "test_labels = train_labels.loc[validation_ids]\n",
    "test_labels.to_csv(DATA_DIRECTORY / \"test_labels.csv\")\n",
    "\n",
    "# Download base model.\n",
    "model = torchvision.models.detection.fasterrcnn_mobilenet_v3_large_320_fpn(weights=\"DEFAULT\")\n",
    "\n",
    "# Adjust the model for spacecraft recognition task.\n",
    "num_classes = 2 # 2 classes are spacecraft or background\n",
    "in_features = model.roi_heads.box_predictor.cls_score.in_features\n",
    "\n",
    "# replace pre-trained head with new one\n",
    "model.roi_heads.box_predictor = FastRCNNPredictor(in_features, num_classes)\n",
    "\n"
   ]
  },
  {
   "cell_type": "code",
   "execution_count": 4,
   "metadata": {},
   "outputs": [
    {
     "name": "stdout",
     "output_type": "stream",
     "text": [
      "    4801\n"
     ]
    }
   ],
   "source": [
    "!ls ../data/images/ | wc -l"
   ]
  },
  {
   "cell_type": "code",
   "execution_count": 5,
   "metadata": {},
   "outputs": [],
   "source": [
    "ckpt_path = '/Users/jsh/code/drivendata/spacecrafts/notebooks/lightning_logs/version_5/checkpoints/epoch=9-step=6570.ckpt'\n",
    "checkpoint = torch.load(ckpt_path, map_location=torch.device('cpu'))"
   ]
  },
  {
   "cell_type": "code",
   "execution_count": 6,
   "metadata": {},
   "outputs": [],
   "source": [
    "state_dict = checkpoint['state_dict']"
   ]
  },
  {
   "cell_type": "code",
   "execution_count": 7,
   "metadata": {},
   "outputs": [],
   "source": [
    "# Load model state_dict and save full version to the submission_src folder.\n",
    "fcrnn = MyFasterRCNN(model)\n",
    "fcrnn.load_state_dict(state_dict)\n",
    "torch.save(model, SUBMISSION_SRC_DIR / 'frcnn10epochs.pt')"
   ]
  },
  {
   "cell_type": "code",
   "execution_count": 8,
   "metadata": {},
   "outputs": [
    {
     "name": "stdout",
     "output_type": "stream",
     "text": [
      "mkdir -p submission/\n",
      "cd submission_src; zip -r ../submission/submission.zip ./*\n",
      "  adding: MyFasterRCNN.py (deflated 63%)\n",
      "  adding: __pycache__/ (stored 0%)\n",
      "  adding: __pycache__/spacecraft_model.cpython-310.pyc (deflated 50%)\n",
      "  adding: __pycache__/MyFasterRCNN.cpython-310.pyc (deflated 49%)\n",
      "  adding: __pycache__/spacecraft_datamodule.cpython-310.pyc (deflated 50%)\n",
      "  adding: frcnn10epochs.pt (deflated 7%)\n",
      "  adding: lightning5.pt (deflated 7%)\n",
      "  adding: main.py (deflated 62%)\n",
      "  adding: main.sh (deflated 26%)\n",
      "  adding: spacecraft_datamodule.py (deflated 67%)\n",
      "  adding: spacecraft_model.py (deflated 64%)\n"
     ]
    }
   ],
   "source": [
    "!cd {PROJ_DIRECTORY} && make pack-submission"
   ]
  },
  {
   "cell_type": "code",
   "execution_count": 9,
   "metadata": {},
   "outputs": [
    {
     "name": "stdout",
     "output_type": "stream",
     "text": [
      "mkdir -p submission/\n",
      "chmod -R 0777 submission/\n",
      "docker run \\\n",
      "\t\t-it \\\n",
      "\t\t--network none \\\n",
      "\t\t--mount type=bind,source=\"/Users/jsh/code/drivendata/spacecrafts\"/data,target=/code_execution/data,readonly \\\n",
      "\t\t--mount type=bind,source=\"/Users/jsh/code/drivendata/spacecrafts\"/submission,target=/code_execution/submission \\\n",
      "\t\t--shm-size 8g \\\n",
      "\t\t--name spacecraft-pose-object-detection \\\n",
      "\t\t--rm \\\n",
      "\t\tbc1d6eb59ba6\n",
      "WARNING: The requested image's platform (linux/amd64) does not match the detected host platform (linux/arm64/v8) and no specific platform was requested\n",
      "+ main\n",
      "+ tee /code_execution/submission/log.txt\n",
      "+ cd /code_execution\n",
      "+ curl --silent --connect-timeout 10 --max-time 12 www.example.com\n",
      "+ data_directory=/code_execution/data\n",
      "+ format_filename=/code_execution/data/submission_format.csv\n",
      "+ (( i=0 ))\n",
      "+ (( i<=5 ))\n",
      "+ t=0\n",
      "+ '[' -f /code_execution/data/submission_format.csv ']'\n",
      "+ echo 'found /code_execution/data/submission_format.csv after 0 seconds; data is mounted'\n",
      "found /code_execution/data/submission_format.csv after 0 seconds; data is mounted\n",
      "+ break\n",
      "+ '[' '!' -f /code_execution/data/submission_format.csv ']'\n",
      "+ expected_filename=main.sh\n",
      "++ zip -sf ./submission/submission.zip\n",
      "+ submission_files='Archive contains:\n",
      "  MyFasterRCNN.py\n",
      "  __pycache__/\n",
      "  __pycache__/spacecraft_model.cpython-310.pyc\n",
      "  __pycache__/MyFasterRCNN.cpython-310.pyc\n",
      "  __pycache__/spacecraft_datamodule.cpython-310.pyc\n",
      "  frcnn10epochs.pt\n",
      "  lightning5.pt\n",
      "  main.py\n",
      "  main.sh\n",
      "  spacecraft_datamodule.py\n",
      "  spacecraft_model.py\n",
      "Total 11 entries (152151014 bytes)'\n",
      "+ grep -q main.sh\n",
      "+ echo Unpacking submission\n",
      "Unpacking submission\n",
      "+ unzip ./submission/submission.zip -d ./workdir\n",
      "Archive:  ./submission/submission.zip\n",
      "  inflating: ./workdir/MyFasterRCNN.py  \n",
      "   creating: ./workdir/__pycache__/\n",
      "  inflating: ./workdir/__pycache__/spacecraft_model.cpython-310.pyc  \n",
      "  inflating: ./workdir/__pycache__/MyFasterRCNN.cpython-310.pyc  \n",
      "  inflating: ./workdir/__pycache__/spacecraft_datamodule.cpython-310.pyc  \n",
      "  inflating: ./workdir/frcnn10epochs.pt  \n",
      "  inflating: ./workdir/lightning5.pt  \n",
      "  inflating: ./workdir/main.py       \n",
      "  inflating: ./workdir/main.sh       \n",
      "  inflating: ./workdir/spacecraft_datamodule.py  \n",
      "  inflating: ./workdir/spacecraft_model.py  \n",
      "+ echo Printing submission contents\n",
      "Printing submission contents\n",
      "+ find workdir\n",
      "workdir\n",
      "workdir/main.py\n",
      "workdir/MyFasterRCNN.py\n",
      "workdir/frcnn10epochs.pt\n",
      "workdir/__pycache__\n",
      "workdir/__pycache__/spacecraft_model.cpython-310.pyc\n",
      "workdir/__pycache__/spacecraft_datamodule.cpython-310.pyc\n",
      "workdir/__pycache__/MyFasterRCNN.cpython-310.pyc\n",
      "workdir/lightning5.pt\n",
      "workdir/main.sh\n",
      "workdir/spacecraft_datamodule.py\n",
      "workdir/spacecraft_model.py\n",
      "+ pushd workdir\n",
      "/code_execution/workdir /code_execution\n",
      "+ sh main.sh\n",
      "2024-03-18 10:37:52.320 | INFO     | __main__:main:75 - using data dir: /code_execution/data\n",
      "2024-03-18 10:37:52.457 | INFO     | __main__:main:95 -   0%|          | 0/4801 [00:00<?, ?it/s]\n",
      "[W NNPACK.cpp:64] Could not initialize NNPACK! Reason: Unsupported hardware.\n",
      "2024-03-18 10:38:14.023 | INFO     | __main__:main:95 -   2%|▏         | 100/4801 [00:21<16:53,  4.64it/s]\n",
      "2024-03-18 10:38:35.081 | INFO     | __main__:main:95 -   4%|▍         | 200/4801 [00:42<16:09,  4.75it/s]\n",
      "2024-03-18 10:38:56.479 | INFO     | __main__:main:95 -   6%|▌         | 300/4801 [01:04<15:42,  4.78it/s]\n",
      "2024-03-18 10:39:17.467 | INFO     | __main__:main:95 -   8%|▊         | 400/4801 [01:25<15:03,  4.87it/s]\n",
      "2024-03-18 10:39:38.386 | INFO     | __main__:main:95 -  10%|█         | 500/4801 [01:45<15:14,  4.71it/s]\n",
      "2024-03-18 10:39:59.245 | INFO     | __main__:main:95 -  12%|█▏        | 600/4801 [02:06<14:58,  4.68it/s]\n",
      "2024-03-18 10:40:20.238 | INFO     | __main__:main:95 -  15%|█▍        | 700/4801 [02:27<14:24,  4.74it/s]\n",
      "2024-03-18 10:40:41.337 | INFO     | __main__:main:95 -  17%|█▋        | 800/4801 [02:48<13:48,  4.83it/s]\n",
      "2024-03-18 10:41:02.998 | INFO     | __main__:main:95 -  19%|█▊        | 900/4801 [03:10<13:15,  4.91it/s]\n",
      "2024-03-18 10:41:24.655 | INFO     | __main__:main:95 -  21%|██        | 1000/4801 [03:32<13:27,  4.71it/s]\n",
      "2024-03-18 10:41:45.568 | INFO     | __main__:main:95 -  23%|██▎       | 1100/4801 [03:53<12:47,  4.82it/s]\n",
      "2024-03-18 10:42:06.613 | INFO     | __main__:main:95 -  25%|██▍       | 1200/4801 [04:14<13:24,  4.48it/s]\n",
      "2024-03-18 10:42:27.829 | INFO     | __main__:main:95 -  27%|██▋       | 1300/4801 [04:35<12:27,  4.68it/s]\n",
      "2024-03-18 10:42:48.887 | INFO     | __main__:main:95 -  29%|██▉       | 1400/4801 [04:56<11:35,  4.89it/s]\n",
      "2024-03-18 10:43:09.967 | INFO     | __main__:main:95 -  31%|███       | 1500/4801 [05:17<11:38,  4.72it/s]\n",
      "2024-03-18 10:43:31.084 | INFO     | __main__:main:95 -  33%|███▎      | 1600/4801 [05:38<10:42,  4.98it/s]\n",
      "2024-03-18 10:43:50.675 | INFO     | __main__:main:95 -  35%|███▌      | 1700/4801 [05:58<08:38,  5.98it/s]\n",
      "2024-03-18 10:44:07.098 | INFO     | __main__:main:95 -  37%|███▋      | 1800/4801 [06:14<08:12,  6.09it/s]\n",
      "2024-03-18 10:44:23.453 | INFO     | __main__:main:95 -  40%|███▉      | 1900/4801 [06:30<07:45,  6.23it/s]\n",
      "2024-03-18 10:44:39.889 | INFO     | __main__:main:95 -  42%|████▏     | 2000/4801 [06:47<07:57,  5.87it/s]\n",
      "2024-03-18 10:44:56.114 | INFO     | __main__:main:95 -  44%|████▎     | 2100/4801 [07:03<07:09,  6.28it/s]\n",
      "2024-03-18 10:45:12.635 | INFO     | __main__:main:95 -  46%|████▌     | 2200/4801 [07:20<07:02,  6.16it/s]\n",
      "2024-03-18 10:45:29.048 | INFO     | __main__:main:95 -  48%|████▊     | 2300/4801 [07:36<07:01,  5.94it/s]\n",
      "2024-03-18 10:45:45.683 | INFO     | __main__:main:95 -  50%|████▉     | 2400/4801 [07:53<06:40,  5.99it/s]\n",
      "2024-03-18 10:46:02.449 | INFO     | __main__:main:95 -  52%|█████▏    | 2500/4801 [08:09<06:33,  5.85it/s]\n",
      "2024-03-18 10:46:19.180 | INFO     | __main__:main:95 -  54%|█████▍    | 2600/4801 [08:26<05:56,  6.18it/s]\n",
      "2024-03-18 10:46:35.641 | INFO     | __main__:main:95 -  56%|█████▌    | 2700/4801 [08:43<05:28,  6.39it/s]\n",
      "2024-03-18 10:46:52.032 | INFO     | __main__:main:95 -  58%|█████▊    | 2800/4801 [08:59<05:13,  6.38it/s]\n",
      "2024-03-18 10:47:08.625 | INFO     | __main__:main:95 -  60%|██████    | 2900/4801 [09:16<05:01,  6.31it/s]\n",
      "2024-03-18 10:47:25.232 | INFO     | __main__:main:95 -  62%|██████▏   | 3000/4801 [09:32<04:48,  6.24it/s]\n",
      "2024-03-18 10:47:41.604 | INFO     | __main__:main:95 -  65%|██████▍   | 3100/4801 [09:49<04:31,  6.27it/s]\n",
      "2024-03-18 10:47:58.483 | INFO     | __main__:main:95 -  67%|██████▋   | 3200/4801 [10:06<04:21,  6.13it/s]\n",
      "2024-03-18 10:48:15.304 | INFO     | __main__:main:95 -  69%|██████▊   | 3300/4801 [10:22<04:05,  6.12it/s]\n",
      "2024-03-18 10:48:31.675 | INFO     | __main__:main:95 -  71%|███████   | 3400/4801 [10:39<03:48,  6.14it/s]\n",
      "2024-03-18 10:48:48.123 | INFO     | __main__:main:95 -  73%|███████▎  | 3500/4801 [10:55<03:34,  6.07it/s]\n",
      "2024-03-18 10:49:04.621 | INFO     | __main__:main:95 -  75%|███████▍  | 3600/4801 [11:12<03:12,  6.25it/s]\n",
      "2024-03-18 10:49:21.255 | INFO     | __main__:main:95 -  77%|███████▋  | 3700/4801 [11:28<03:06,  5.91it/s]\n",
      "2024-03-18 10:49:37.664 | INFO     | __main__:main:95 -  79%|███████▉  | 3800/4801 [11:45<02:41,  6.20it/s]\n",
      "2024-03-18 10:49:53.822 | INFO     | __main__:main:95 -  81%|████████  | 3900/4801 [12:01<02:34,  5.82it/s]\n",
      "2024-03-18 10:50:10.217 | INFO     | __main__:main:95 -  83%|████████▎ | 4000/4801 [12:17<02:09,  6.16it/s]\n",
      "2024-03-18 10:50:26.373 | INFO     | __main__:main:95 -  85%|████████▌ | 4100/4801 [12:33<01:52,  6.23it/s]\n",
      "2024-03-18 10:50:42.513 | INFO     | __main__:main:95 -  87%|████████▋ | 4200/4801 [12:50<01:36,  6.21it/s]\n",
      "2024-03-18 10:50:59.041 | INFO     | __main__:main:95 -  90%|████████▉ | 4300/4801 [13:06<01:31,  5.45it/s]\n",
      "2024-03-18 10:51:15.251 | INFO     | __main__:main:95 -  92%|█████████▏| 4400/4801 [13:22<01:03,  6.36it/s]\n",
      "2024-03-18 10:51:31.897 | INFO     | __main__:main:95 -  94%|█████████▎| 4500/4801 [13:39<00:50,  5.97it/s]\n",
      "2024-03-18 10:51:48.602 | INFO     | __main__:main:95 -  96%|█████████▌| 4600/4801 [13:56<00:33,  6.05it/s]\n",
      "2024-03-18 10:52:05.030 | INFO     | __main__:main:95 -  98%|█████████▊| 4700/4801 [14:12<00:17,  5.94it/s]\n",
      "2024-03-18 10:52:21.631 | INFO     | __main__:main:95 - 100%|█████████▉| 4800/4801 [14:29<00:00,  5.98it/s]\n",
      "+ popd\n",
      "/code_execution\n",
      "+ pytest --no-header -vv tests/test_submission.py\n",
      "============================= test session starts ==============================\n",
      "collecting ... collected 2 items\n",
      "\n",
      "tests/test_submission.py::test_submission_exists PASSED                  [ 50%]\n",
      "tests/test_submission.py::test_submission_matches_submission_format PASSED [100%]\n",
      "\n",
      "============================== 2 passed in 0.96s ===============================\n",
      "+ exit_code=0\n",
      "+ cp /code_execution/submission/log.txt /tmp/log\n",
      "+ exit 0\n"
     ]
    }
   ],
   "source": [
    "! cd {PROJ_DIRECTORY} && make test-submission"
   ]
  },
  {
   "cell_type": "code",
   "execution_count": null,
   "metadata": {},
   "outputs": [],
   "source": []
  }
 ],
 "metadata": {
  "kernelspec": {
   "display_name": "spacecrafts-01zDKSDz-python",
   "language": "python",
   "name": "python3"
  },
  "language_info": {
   "codemirror_mode": {
    "name": "ipython",
    "version": 3
   },
   "file_extension": ".py",
   "mimetype": "text/x-python",
   "name": "python",
   "nbconvert_exporter": "python",
   "pygments_lexer": "ipython3",
   "version": "3.10.13"
  }
 },
 "nbformat": 4,
 "nbformat_minor": 2
}
