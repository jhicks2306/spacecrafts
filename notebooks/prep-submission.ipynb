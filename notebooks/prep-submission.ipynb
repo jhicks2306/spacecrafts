{
 "cells": [
  {
   "cell_type": "code",
   "execution_count": 4,
   "metadata": {},
   "outputs": [],
   "source": [
    "import shutil\n",
    "from pathlib import Path\n",
    "import pandas as pd\n",
    "import torch\n",
    "import torchvision\n",
    "from torchvision.models.detection.faster_rcnn import FastRCNNPredictor"
   ]
  },
  {
   "cell_type": "code",
   "execution_count": 5,
   "metadata": {},
   "outputs": [],
   "source": [
    "# Set configuration variables\n",
    "PROJ_DIRECTORY = Path.cwd().parent\n",
    "DATA_DIRECTORY = PROJ_DIRECTORY / \"data\"\n",
    "DEV_DIRECTORY = PROJ_DIRECTORY / \"data_dev\"\n",
    "IMAGES_DIRECTORY = DEV_DIRECTORY / \"images\"\n",
    "SUBMISSION_SRC_DIR = PROJ_DIRECTORY / \"submission_src\"\n",
    "IMAGE_SIZE = (1280, 1024)\n",
    "IMAGE_RESIZE_SCALE = (1/8)\n",
    "IMAGE_RESIZED = (int(IMAGE_SIZE[0]*IMAGE_RESIZE_SCALE), int(IMAGE_SIZE[1]*IMAGE_RESIZE_SCALE))\n",
    "VALIDATION_IDS_PATH = PROJ_DIRECTORY / 'notebooks' / 'validation_ids.csv'"
   ]
  },
  {
   "cell_type": "code",
   "execution_count": 7,
   "metadata": {},
   "outputs": [],
   "source": [
    "# Import img ids for validation set used on Kaggle.\n",
    "validation_ids = pd.read_csv(VALIDATION_IDS_PATH)['0'].tolist()\n",
    "\n",
    "# Move validation set images to data/images directory.\n",
    "dest_dir = DATA_DIRECTORY / \"images\"\n",
    "if not dest_dir.exists():\n",
    "    dest_dir.mkdir(parents=True, exist_ok=True)\n",
    "\n",
    "for img in validation_ids:\n",
    "    shutil.copy2(IMAGES_DIRECTORY / f\"{img}.png\", dest_dir / f\"{img}.png\")\n",
    "\n",
    "# Create submission_format file that corresponds to the validation set.\n",
    "submission_format = pd.read_csv(DEV_DIRECTORY / \"submission_format.csv\", index_col=\"image_id\")\n",
    "submission_format_val = submission_format.loc[validation_ids]\n",
    "submission_format_val.to_csv(DATA_DIRECTORY / \"submission_format.csv\")\n",
    "\n",
    "# Create train_labels file that corresponds to the validation set.\n",
    "train_labels = pd.read_csv(DEV_DIRECTORY / \"train_labels.csv\", index_col=\"image_id\")\n",
    "test_labels = train_labels.loc[validation_ids]\n",
    "test_labels.to_csv(DATA_DIRECTORY / \"test_labels.csv\")\n",
    "\n",
    "# Download base model.\n",
    "model = torchvision.models.detection.fasterrcnn_mobilenet_v3_large_320_fpn(weights=\"DEFAULT\")\n",
    "\n",
    "# Adjust the model for spacecraft recognition task.\n",
    "num_classes = 2 # 2 classes are spacecraft or background\n",
    "in_features = model.roi_heads.box_predictor.cls_score.in_features\n",
    "\n",
    "# replace pre-trained head with new one\n",
    "model.roi_heads.box_predictor = FastRCNNPredictor(in_features, num_classes)\n"
   ]
  },
  {
   "cell_type": "code",
   "execution_count": 9,
   "metadata": {},
   "outputs": [],
   "source": [
    "checkpoint = torch.load('checkpoint-5epochs.pth',map_location=torch.device('cpu'))"
   ]
  },
  {
   "cell_type": "code",
   "execution_count": 12,
   "metadata": {},
   "outputs": [],
   "source": [
    "state_dict = checkpoint['model_state_dict']"
   ]
  },
  {
   "cell_type": "code",
   "execution_count": 13,
   "metadata": {},
   "outputs": [],
   "source": [
    "# Load model state_dict and save full version to the submission_src folder.\n",
    "model.load_state_dict(state_dict)\n",
    "torch.save(model, SUBMISSION_SRC_DIR / 'full-model-5epochs.pt')"
   ]
  },
  {
   "cell_type": "code",
   "execution_count": null,
   "metadata": {},
   "outputs": [],
   "source": [
    "!cd {PROJ_DIRECTORY} && make pack-submission && make test-submission"
   ]
  }
 ],
 "metadata": {
  "kernelspec": {
   "display_name": "spacecrafts-01zDKSDz-python",
   "language": "python",
   "name": "python3"
  },
  "language_info": {
   "codemirror_mode": {
    "name": "ipython",
    "version": 3
   },
   "file_extension": ".py",
   "mimetype": "text/x-python",
   "name": "python",
   "nbconvert_exporter": "python",
   "pygments_lexer": "ipython3",
   "version": "3.10.13"
  }
 },
 "nbformat": 4,
 "nbformat_minor": 2
}
