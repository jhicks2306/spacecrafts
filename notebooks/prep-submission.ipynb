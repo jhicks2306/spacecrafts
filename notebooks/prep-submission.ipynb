{
 "cells": [
  {
   "cell_type": "code",
   "execution_count": 4,
   "metadata": {},
   "outputs": [],
   "source": [
    "import shutil\n",
    "from pathlib import Path\n",
    "import pandas as pd\n",
    "import torch\n",
    "import torchvision\n",
    "from torchvision.models.detection.faster_rcnn import FastRCNNPredictor"
   ]
  },
  {
   "cell_type": "code",
   "execution_count": 5,
   "metadata": {},
   "outputs": [],
   "source": [
    "# Set configuration variables\n",
    "PROJ_DIRECTORY = Path.cwd().parent\n",
    "DATA_DIRECTORY = PROJ_DIRECTORY / \"data\"\n",
    "DEV_DIRECTORY = PROJ_DIRECTORY / \"data_dev\"\n",
    "IMAGES_DIRECTORY = DEV_DIRECTORY / \"images\"\n",
    "SUBMISSION_SRC_DIR = PROJ_DIRECTORY / \"submission_src\"\n",
    "IMAGE_SIZE = (1280, 1024)\n",
    "IMAGE_RESIZE_SCALE = (1/8)\n",
    "IMAGE_RESIZED = (int(IMAGE_SIZE[0]*IMAGE_RESIZE_SCALE), int(IMAGE_SIZE[1]*IMAGE_RESIZE_SCALE))\n",
    "VALIDATION_IDS_PATH = PROJ_DIRECTORY / 'notebooks' / 'validation_ids.csv'"
   ]
  },
  {
   "cell_type": "code",
   "execution_count": 7,
   "metadata": {},
   "outputs": [],
   "source": [
    "# Import img ids for validation set used on Kaggle.\n",
    "validation_ids = pd.read_csv(VALIDATION_IDS_PATH)['0'].tolist()\n",
    "\n",
    "# Move validation set images to data/images directory.\n",
    "dest_dir = DATA_DIRECTORY / \"images\"\n",
    "if not dest_dir.exists():\n",
    "    dest_dir.mkdir(parents=True, exist_ok=True)\n",
    "\n",
    "for img in validation_ids:\n",
    "    shutil.copy2(IMAGES_DIRECTORY / f\"{img}.png\", dest_dir / f\"{img}.png\")\n",
    "\n",
    "# Create submission_format file that corresponds to the validation set.\n",
    "submission_format = pd.read_csv(DEV_DIRECTORY / \"submission_format.csv\", index_col=\"image_id\")\n",
    "submission_format_val = submission_format.loc[validation_ids]\n",
    "submission_format_val.to_csv(DATA_DIRECTORY / \"submission_format.csv\")\n",
    "\n",
    "# Create train_labels file that corresponds to the validation set.\n",
    "train_labels = pd.read_csv(DEV_DIRECTORY / \"train_labels.csv\", index_col=\"image_id\")\n",
    "test_labels = train_labels.loc[validation_ids]\n",
    "test_labels.to_csv(DATA_DIRECTORY / \"test_labels.csv\")\n",
    "\n",
    "# Download base model.\n",
    "model = torchvision.models.detection.fasterrcnn_mobilenet_v3_large_320_fpn(weights=\"DEFAULT\")\n",
    "\n",
    "# Adjust the model for spacecraft recognition task.\n",
    "num_classes = 2 # 2 classes are spacecraft or background\n",
    "in_features = model.roi_heads.box_predictor.cls_score.in_features\n",
    "\n",
    "# replace pre-trained head with new one\n",
    "model.roi_heads.box_predictor = FastRCNNPredictor(in_features, num_classes)\n"
   ]
  },
  {
   "cell_type": "code",
   "execution_count": 9,
   "metadata": {},
   "outputs": [],
   "source": [
    "checkpoint = torch.load('checkpoint-5epochs.pth',map_location=torch.device('cpu'))"
   ]
  },
  {
   "cell_type": "code",
   "execution_count": 12,
   "metadata": {},
   "outputs": [],
   "source": [
    "state_dict = checkpoint['model_state_dict']"
   ]
  },
  {
   "cell_type": "code",
   "execution_count": 13,
   "metadata": {},
   "outputs": [],
   "source": [
    "# Load model state_dict and save full version to the submission_src folder.\n",
    "model.load_state_dict(state_dict)\n",
    "torch.save(model, SUBMISSION_SRC_DIR / 'full-model-5epochs.pt')"
   ]
  },
  {
   "cell_type": "code",
   "execution_count": 16,
   "metadata": {},
   "outputs": [
    {
     "name": "stdout",
     "output_type": "stream",
     "text": [
      "mkdir -p submission/\n",
      "cd submission_src; zip -r ../submission/submission.zip ./*\n",
      "  adding: full-model-5epochs.pt (deflated 7%)\n",
      "  adding: main.py (deflated 61%)\n",
      "  adding: main.sh (deflated 26%)\n"
     ]
    }
   ],
   "source": [
    "!cd {PROJ_DIRECTORY} && make pack-submission"
   ]
  },
  {
   "cell_type": "code",
   "execution_count": 17,
   "metadata": {},
   "outputs": [
    {
     "name": "stdout",
     "output_type": "stream",
     "text": [
      "mkdir -p submission/\n",
      "chmod -R 0777 submission/\n",
      "docker run \\\n",
      "\t\t-it \\\n",
      "\t\t--network none \\\n",
      "\t\t--mount type=bind,source=\"/Users/jsh/code/drivendata/spacecrafts\"/data,target=/code_execution/data,readonly \\\n",
      "\t\t--mount type=bind,source=\"/Users/jsh/code/drivendata/spacecrafts\"/submission,target=/code_execution/submission \\\n",
      "\t\t--shm-size 8g \\\n",
      "\t\t--name spacecraft-pose-object-detection \\\n",
      "\t\t--rm \\\n",
      "\t\tbc1d6eb59ba6\n",
      "WARNING: The requested image's platform (linux/amd64) does not match the detected host platform (linux/arm64/v8) and no specific platform was requested\n",
      "+ main\n",
      "+ tee /code_execution/submission/log.txt\n",
      "+ cd /code_execution\n",
      "+ curl --silent --connect-timeout 10 --max-time 12 www.example.com\n",
      "+ data_directory=/code_execution/data\n",
      "+ format_filename=/code_execution/data/submission_format.csv\n",
      "+ (( i=0 ))\n",
      "+ (( i<=5 ))\n",
      "+ t=0\n",
      "+ '[' -f /code_execution/data/submission_format.csv ']'\n",
      "+ echo 'found /code_execution/data/submission_format.csv after 0 seconds; data is mounted'\n",
      "found /code_execution/data/submission_format.csv after 0 seconds; data is mounted\n",
      "+ break\n",
      "+ '[' '!' -f /code_execution/data/submission_format.csv ']'\n",
      "+ expected_filename=main.sh\n",
      "++ zip -sf ./submission/submission.zip\n",
      "+ submission_files='Archive contains:\n",
      "  full-model-5epochs.pt\n",
      "  main.py\n",
      "  main.sh\n",
      "Total 3 entries (76072442 bytes)'\n",
      "+ grep -q main.sh\n",
      "+ echo Unpacking submission\n",
      "Unpacking submission\n",
      "+ unzip ./submission/submission.zip -d ./workdir\n",
      "Archive:  ./submission/submission.zip\n",
      "  inflating: ./workdir/full-model-5epochs.pt  \n",
      "  inflating: ./workdir/main.py       \n",
      "  inflating: ./workdir/main.sh       \n",
      "+ echo Printing submission contents\n",
      "Printing submission contents\n",
      "+ find workdir\n",
      "workdir\n",
      "workdir/full-model-5epochs.pt\n",
      "workdir/main.py\n",
      "workdir/main.sh\n",
      "+ pushd workdir\n",
      "/code_execution/workdir /code_execution\n",
      "+ sh main.sh\n",
      "2024-03-14 15:50:37.812 | INFO     | __main__:main:62 - using data dir: /code_execution/data\n",
      "2024-03-14 15:50:37.918 | INFO     | __main__:main:82 -   0%|          | 0/4801 [00:00<?, ?it/s]\n",
      "[W NNPACK.cpp:64] Could not initialize NNPACK! Reason: Unsupported hardware.\n",
      "2024-03-14 15:50:53.722 | INFO     | __main__:main:82 -   2%|▏         | 100/4801 [00:15<12:22,  6.33it/s]\n",
      "2024-03-14 15:51:08.884 | INFO     | __main__:main:82 -   4%|▍         | 200/4801 [00:30<11:46,  6.52it/s]\n",
      "2024-03-14 15:51:24.275 | INFO     | __main__:main:82 -   6%|▌         | 300/4801 [00:46<12:54,  5.81it/s]\n",
      "2024-03-14 15:51:39.499 | INFO     | __main__:main:82 -   8%|▊         | 400/4801 [01:01<10:38,  6.89it/s]\n",
      "2024-03-14 15:51:54.433 | INFO     | __main__:main:82 -  10%|█         | 500/4801 [01:16<10:42,  6.69it/s]\n",
      "2024-03-14 15:52:09.402 | INFO     | __main__:main:82 -  12%|█▏        | 600/4801 [01:31<10:32,  6.64it/s]\n",
      "2024-03-14 15:52:24.681 | INFO     | __main__:main:82 -  15%|█▍        | 700/4801 [01:46<10:28,  6.53it/s]\n",
      "2024-03-14 15:52:39.987 | INFO     | __main__:main:82 -  17%|█▋        | 800/4801 [02:02<10:04,  6.62it/s]\n",
      "2024-03-14 15:52:55.341 | INFO     | __main__:main:82 -  19%|█▊        | 900/4801 [02:17<09:39,  6.74it/s]\n",
      "2024-03-14 15:53:10.706 | INFO     | __main__:main:82 -  21%|██        | 1000/4801 [02:32<09:40,  6.55it/s]\n",
      "2024-03-14 15:53:25.589 | INFO     | __main__:main:82 -  23%|██▎       | 1100/4801 [02:47<09:14,  6.68it/s]\n",
      "2024-03-14 15:53:40.970 | INFO     | __main__:main:82 -  25%|██▍       | 1200/4801 [03:03<10:53,  5.51it/s]\n",
      "2024-03-14 15:53:56.147 | INFO     | __main__:main:82 -  27%|██▋       | 1300/4801 [03:18<09:11,  6.35it/s]\n",
      "2024-03-14 15:54:11.112 | INFO     | __main__:main:82 -  29%|██▉       | 1400/4801 [03:33<08:20,  6.79it/s]\n",
      "2024-03-14 15:54:26.217 | INFO     | __main__:main:82 -  31%|███       | 1500/4801 [03:48<08:19,  6.61it/s]\n",
      "2024-03-14 15:54:41.404 | INFO     | __main__:main:82 -  33%|███▎      | 1600/4801 [04:03<08:10,  6.52it/s]\n",
      "2024-03-14 15:54:56.581 | INFO     | __main__:main:82 -  35%|███▌      | 1700/4801 [04:18<08:14,  6.27it/s]\n",
      "2024-03-14 15:55:11.771 | INFO     | __main__:main:82 -  37%|███▋      | 1800/4801 [04:33<07:26,  6.72it/s]\n",
      "2024-03-14 15:55:26.934 | INFO     | __main__:main:82 -  40%|███▉      | 1900/4801 [04:49<07:03,  6.85it/s]\n",
      "2024-03-14 15:55:42.288 | INFO     | __main__:main:82 -  42%|████▏     | 2000/4801 [05:04<07:31,  6.21it/s]\n",
      "2024-03-14 15:55:57.502 | INFO     | __main__:main:82 -  44%|████▎     | 2100/4801 [05:19<06:46,  6.65it/s]\n",
      "2024-03-14 15:56:13.044 | INFO     | __main__:main:82 -  46%|████▌     | 2200/4801 [05:35<07:07,  6.08it/s]\n",
      "2024-03-14 15:56:28.327 | INFO     | __main__:main:82 -  48%|████▊     | 2300/4801 [05:50<06:26,  6.47it/s]\n",
      "2024-03-14 15:56:43.638 | INFO     | __main__:main:82 -  50%|████▉     | 2400/4801 [06:05<05:55,  6.75it/s]\n",
      "2024-03-14 15:56:59.001 | INFO     | __main__:main:82 -  52%|█████▏    | 2500/4801 [06:21<05:51,  6.54it/s]\n",
      "2024-03-14 15:57:14.500 | INFO     | __main__:main:82 -  54%|█████▍    | 2600/4801 [06:36<05:21,  6.85it/s]\n",
      "2024-03-14 15:57:29.932 | INFO     | __main__:main:82 -  56%|█████▌    | 2700/4801 [06:52<05:01,  6.96it/s]\n",
      "2024-03-14 15:57:45.164 | INFO     | __main__:main:82 -  58%|█████▊    | 2800/4801 [07:07<04:49,  6.90it/s]\n",
      "2024-03-14 15:58:00.627 | INFO     | __main__:main:82 -  60%|██████    | 2900/4801 [07:22<04:48,  6.59it/s]\n",
      "2024-03-14 15:58:16.199 | INFO     | __main__:main:82 -  62%|██████▏   | 3000/4801 [07:38<04:27,  6.74it/s]\n",
      "2024-03-14 15:58:31.710 | INFO     | __main__:main:82 -  65%|██████▍   | 3100/4801 [07:53<04:40,  6.07it/s]\n",
      "2024-03-14 15:58:46.937 | INFO     | __main__:main:82 -  67%|██████▋   | 3200/4801 [08:09<04:06,  6.51it/s]\n",
      "2024-03-14 15:59:02.074 | INFO     | __main__:main:82 -  69%|██████▊   | 3300/4801 [08:24<03:37,  6.89it/s]\n",
      "2024-03-14 15:59:17.413 | INFO     | __main__:main:82 -  71%|███████   | 3400/4801 [08:39<03:52,  6.03it/s]\n",
      "2024-03-14 15:59:32.535 | INFO     | __main__:main:82 -  73%|███████▎  | 3500/4801 [08:54<03:14,  6.69it/s]\n",
      "2024-03-14 15:59:47.611 | INFO     | __main__:main:82 -  75%|███████▍  | 3600/4801 [09:09<02:59,  6.70it/s]\n",
      "2024-03-14 16:00:03.107 | INFO     | __main__:main:82 -  77%|███████▋  | 3700/4801 [09:25<02:52,  6.38it/s]\n",
      "2024-03-14 16:00:18.550 | INFO     | __main__:main:82 -  79%|███████▉  | 3800/4801 [09:40<02:33,  6.50it/s]\n",
      "2024-03-14 16:00:33.326 | INFO     | __main__:main:82 -  81%|████████  | 3900/4801 [09:55<02:10,  6.90it/s]\n",
      "2024-03-14 16:00:48.495 | INFO     | __main__:main:82 -  83%|████████▎ | 4000/4801 [10:10<01:57,  6.81it/s]\n",
      "2024-03-14 16:01:03.337 | INFO     | __main__:main:82 -  85%|████████▌ | 4100/4801 [10:25<01:43,  6.79it/s]\n",
      "2024-03-14 16:01:18.341 | INFO     | __main__:main:82 -  87%|████████▋ | 4200/4801 [10:40<01:29,  6.72it/s]\n",
      "2024-03-14 16:01:33.792 | INFO     | __main__:main:82 -  90%|████████▉ | 4300/4801 [10:55<01:16,  6.55it/s]\n",
      "2024-03-14 16:01:48.962 | INFO     | __main__:main:82 -  92%|█████████▏| 4400/4801 [11:11<01:01,  6.54it/s]\n",
      "2024-03-14 16:02:04.356 | INFO     | __main__:main:82 -  94%|█████████▎| 4500/4801 [11:26<00:45,  6.69it/s]\n",
      "2024-03-14 16:02:19.552 | INFO     | __main__:main:82 -  96%|█████████▌| 4600/4801 [11:41<00:29,  6.70it/s]\n",
      "2024-03-14 16:02:34.560 | INFO     | __main__:main:82 -  98%|█████████▊| 4700/4801 [11:56<00:17,  5.83it/s]\n",
      "2024-03-14 16:02:49.624 | INFO     | __main__:main:82 - 100%|█████████▉| 4800/4801 [12:11<00:00,  6.46it/s]\n",
      "+ popd\n",
      "/code_execution\n",
      "+ pytest --no-header -vv tests/test_submission.py\n",
      "============================= test session starts ==============================\n",
      "collecting ... collected 2 items\n",
      "\n",
      "tests/test_submission.py::test_submission_exists PASSED                  [ 50%]\n",
      "tests/test_submission.py::test_submission_matches_submission_format PASSED [100%]\n",
      "\n",
      "============================== 2 passed in 0.72s ===============================\n",
      "+ exit_code=0\n",
      "+ cp /code_execution/submission/log.txt /tmp/log\n",
      "+ exit 0\n"
     ]
    }
   ],
   "source": [
    "! cd {PROJ_DIRECTORY} && make test-submission"
   ]
  }
 ],
 "metadata": {
  "kernelspec": {
   "display_name": "spacecrafts-01zDKSDz-python",
   "language": "python",
   "name": "python3"
  },
  "language_info": {
   "codemirror_mode": {
    "name": "ipython",
    "version": 3
   },
   "file_extension": ".py",
   "mimetype": "text/x-python",
   "name": "python",
   "nbconvert_exporter": "python",
   "pygments_lexer": "ipython3",
   "version": "3.10.13"
  }
 },
 "nbformat": 4,
 "nbformat_minor": 2
}
