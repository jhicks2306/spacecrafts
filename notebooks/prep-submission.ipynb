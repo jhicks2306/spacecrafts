{
 "cells": [
  {
   "cell_type": "code",
   "execution_count": 12,
   "metadata": {},
   "outputs": [],
   "source": [
    "import sys\n",
    "sys.path.append('/Users/jsh/code/drivendata/spacecrafts/')\n",
    "import shutil\n",
    "from pathlib import Path\n",
    "import pandas as pd\n",
    "import torch\n",
    "import torchvision\n",
    "import pytorch_lightning as L\n",
    "from submission_src.spacecraft_datamodule import SpacecraftDataModule, SpacecraftDataModule, collate_fn\n",
    "from submission_src.spacecraft_model import SpacecraftModel\n",
    "from submission_src.MyFasterRCNN import MyFasterRCNN\n",
    "from torchvision.models.detection.faster_rcnn import FastRCNNPredictor\n",
    "from torchvision.models.detection.ssd import SSDClassificationHead\n",
    "from torchvision.models.detection._utils import retrieve_out_channels"
   ]
  },
  {
   "cell_type": "code",
   "execution_count": 13,
   "metadata": {},
   "outputs": [],
   "source": [
    "# Set configuration variables\n",
    "PROJ_DIRECTORY = Path.cwd().parent\n",
    "DATA_DIRECTORY = PROJ_DIRECTORY / \"data\"\n",
    "DEV_DIRECTORY = PROJ_DIRECTORY / \"data_dev\"\n",
    "IMAGES_DIRECTORY = DEV_DIRECTORY / \"images\"\n",
    "SUBMISSION_SRC_DIR = PROJ_DIRECTORY / \"submission_src\"\n",
    "IMAGE_SIZE = (1280, 1024)\n",
    "IMAGE_RESIZE_SCALE = (1/8)\n",
    "IMAGE_RESIZED = (int(IMAGE_SIZE[0]*IMAGE_RESIZE_SCALE), int(IMAGE_SIZE[1]*IMAGE_RESIZE_SCALE))\n",
    "VALIDATION_IDS_PATH = PROJ_DIRECTORY / 'notebooks' / 'validation_ids.csv'"
   ]
  },
  {
   "cell_type": "code",
   "execution_count": 14,
   "metadata": {},
   "outputs": [],
   "source": [
    "# Import img ids for validation set used on Kaggle.\n",
    "validation_ids = pd.read_csv(VALIDATION_IDS_PATH)['0'].tolist()\n",
    "\n",
    "# Move validation set images to data/images directory.\n",
    "dest_dir = DATA_DIRECTORY / \"images\"\n",
    "if not dest_dir.exists():\n",
    "    dest_dir.mkdir(parents=True, exist_ok=True)\n",
    "\n",
    "for img in validation_ids:\n",
    "    shutil.copy2(IMAGES_DIRECTORY / f\"{img}.png\", dest_dir / f\"{img}.png\")\n",
    "\n",
    "# Create submission_format file that corresponds to the validation set.\n",
    "submission_format = pd.read_csv(DEV_DIRECTORY / \"submission_format.csv\", index_col=\"image_id\")\n",
    "submission_format_val = submission_format.loc[validation_ids]\n",
    "submission_format_val.to_csv(DATA_DIRECTORY / \"submission_format.csv\")\n",
    "\n",
    "# Create train_labels file that corresponds to the validation set.\n",
    "train_labels = pd.read_csv(DEV_DIRECTORY / \"train_labels.csv\", index_col=\"image_id\")\n",
    "test_labels = train_labels.loc[validation_ids]\n",
    "test_labels.to_csv(DATA_DIRECTORY / \"test_labels.csv\")"
   ]
  },
  {
   "cell_type": "code",
   "execution_count": null,
   "metadata": {},
   "outputs": [],
   "source": [
    "# Download base model.\n",
    "model = torchvision.models.detection.fasterrcnn_mobilenet_v3_large_320_fpn(weights=\"DEFAULT\")\n",
    "\n",
    "# Adjust the model for spacecraft recognition task.\n",
    "num_classes = 2 # 2 classes are spacecraft or background\n",
    "in_features = model.roi_heads.box_predictor.cls_score.in_features\n",
    "\n",
    "# replace pre-trained head with new one\n",
    "model.roi_heads.box_predictor = FastRCNNPredictor(in_features, num_classes)\n",
    "\n"
   ]
  },
  {
   "cell_type": "code",
   "execution_count": 31,
   "metadata": {},
   "outputs": [],
   "source": [
    "def get_ssd():  \n",
    "    # Download base model\n",
    "    weights = torchvision.models.detection.SSDLite320_MobileNet_V3_Large_Weights.DEFAULT\n",
    "    model = torchvision.models.detection.ssdlite320_mobilenet_v3_large(weights=weights)\n",
    "\n",
    "    num_classes = 2 # 2 classes are spacecraft or background\n",
    "    num_anchors = model.anchor_generator.num_anchors_per_location()\n",
    "    in_channels = retrieve_out_channels(model.backbone, (320,320))\n",
    "\n",
    "    # Replace head for Spacecraft detection task\n",
    "    model.head.classification_head = SSDClassificationHead(in_channels=in_channels, num_anchors=num_anchors, num_classes=num_classes)\n",
    "\n",
    "    model.train()\n",
    "    return model\n",
    "\n",
    "def get_faster_rcnn():\n",
    "    # Download base model\n",
    "    weights = torchvision.models.detection.FasterRCNN_MobileNet_V3_Large_320_FPN_Weights.DEFAULT\n",
    "    model = torchvision.models.detection.fasterrcnn_mobilenet_v3_large_320_fpn(weights=weights)\n",
    "\n",
    "    # Adjust the model for spacecraft recognition task.\n",
    "    num_classes = 2 # 2 classes are spacecraft or background\n",
    "    in_features = model.roi_heads.box_predictor.cls_score.in_features\n",
    "\n",
    "    # replace pre-trained head with new one\n",
    "    model.roi_heads.box_predictor = FastRCNNPredictor(in_features, num_classes)\n",
    "    model.train()\n",
    "    return model"
   ]
  },
  {
   "cell_type": "code",
   "execution_count": 22,
   "metadata": {},
   "outputs": [
    {
     "name": "stdout",
     "output_type": "stream",
     "text": [
      "    4801\n"
     ]
    }
   ],
   "source": [
    "!ls ../data/images/ | wc -l"
   ]
  },
  {
   "cell_type": "code",
   "execution_count": 29,
   "metadata": {},
   "outputs": [],
   "source": [
    "ckpt_path = '/Users/jsh/code/drivendata/spacecrafts/notebooks/lightning_logs/version_5/checkpoints/epoch=9-step=6570.ckpt'\n",
    "checkpoint = torch.load(ckpt_path, map_location=torch.device('cpu'))\n",
    "state_dict = checkpoint['state_dict']"
   ]
  },
  {
   "cell_type": "code",
   "execution_count": 23,
   "metadata": {},
   "outputs": [],
   "source": [
    "state_dict = torch.load('ssd_state_dict.pt', map_location=torch.device('cpu'))"
   ]
  },
  {
   "cell_type": "code",
   "execution_count": 24,
   "metadata": {},
   "outputs": [
    {
     "name": "stderr",
     "output_type": "stream",
     "text": [
      "Downloading: \"https://download.pytorch.org/models/ssdlite320_mobilenet_v3_large_coco-a79551df.pth\" to /Users/jsh/.cache/torch/hub/checkpoints/ssdlite320_mobilenet_v3_large_coco-a79551df.pth\n",
      "100%|██████████| 13.4M/13.4M [00:01<00:00, 9.17MB/s]\n"
     ]
    }
   ],
   "source": [
    "model = get_ssd()"
   ]
  },
  {
   "cell_type": "code",
   "execution_count": 36,
   "metadata": {},
   "outputs": [
    {
     "data": {
      "text/plain": [
       "<All keys matched successfully>"
      ]
     },
     "execution_count": 36,
     "metadata": {},
     "output_type": "execute_result"
    }
   ],
   "source": [
    "# Load model state_dict and save full version to the submission_src folder.\n",
    "model = get_faster_rcnn()\n",
    "frcnn = MyFasterRCNN(model)\n",
    "frcnn.load_state_dict(state_dict)"
   ]
  },
  {
   "cell_type": "code",
   "execution_count": 37,
   "metadata": {},
   "outputs": [
    {
     "data": {
      "text/plain": [
       "0.001"
      ]
     },
     "execution_count": 37,
     "metadata": {},
     "output_type": "execute_result"
    }
   ],
   "source": [
    "frcnn.learning_rate"
   ]
  },
  {
   "cell_type": "code",
   "execution_count": 25,
   "metadata": {},
   "outputs": [],
   "source": [
    "# Load model state_dict and save full version to the submission_src folder.\n",
    "ssd = SpacecraftModel(model)\n",
    "ssd.load_state_dict(state_dict)\n",
    "torch.save(model, SUBMISSION_SRC_DIR / 'ssd_1epoch.pt')"
   ]
  },
  {
   "cell_type": "code",
   "execution_count": 26,
   "metadata": {},
   "outputs": [
    {
     "name": "stdout",
     "output_type": "stream",
     "text": [
      "mkdir -p submission/\n",
      "cd submission_src; zip -r ../submission/submission.zip ./*\n",
      "  adding: MyFasterRCNN.py (deflated 63%)\n",
      "  adding: __pycache__/ (stored 0%)\n",
      "  adding: __pycache__/spacecraft_model.cpython-310.pyc (deflated 50%)\n",
      "  adding: __pycache__/MyFasterRCNN.cpython-310.pyc (deflated 49%)\n",
      "  adding: __pycache__/spacecraft_datamodule.cpython-310.pyc (deflated 50%)\n",
      "  adding: frcnn10epochs.pt (deflated 7%)\n",
      "  adding: lightning5.pt (deflated 7%)\n",
      "  adding: main.py (deflated 62%)\n",
      "  adding: main.sh (deflated 26%)\n",
      "  adding: spacecraft_datamodule.py (deflated 67%)\n",
      "  adding: spacecraft_model.py (deflated 64%)\n",
      "  adding: spacecraft_utils.py (stored 0%)\n",
      "  adding: ssd_1epoch.pt (deflated 8%)\n"
     ]
    }
   ],
   "source": [
    "!cd {PROJ_DIRECTORY} && make pack-submission"
   ]
  },
  {
   "cell_type": "code",
   "execution_count": 27,
   "metadata": {},
   "outputs": [
    {
     "name": "stdout",
     "output_type": "stream",
     "text": [
      "mkdir -p submission/\n",
      "chmod -R 0777 submission/\n",
      "docker run \\\n",
      "\t\t-it \\\n",
      "\t\t--network none \\\n",
      "\t\t--mount type=bind,source=\"/Users/jsh/code/drivendata/spacecrafts\"/data,target=/code_execution/data,readonly \\\n",
      "\t\t--mount type=bind,source=\"/Users/jsh/code/drivendata/spacecrafts\"/submission,target=/code_execution/submission \\\n",
      "\t\t--shm-size 8g \\\n",
      "\t\t--name spacecraft-pose-object-detection \\\n",
      "\t\t--rm \\\n",
      "\t\tbc1d6eb59ba6\n",
      "WARNING: The requested image's platform (linux/amd64) does not match the detected host platform (linux/arm64/v8) and no specific platform was requested\n",
      "+ main\n",
      "+ tee /code_execution/submission/log.txt\n",
      "+ cd /code_execution\n",
      "+ curl --silent --connect-timeout 10 --max-time 12 www.example.com\n",
      "+ data_directory=/code_execution/data\n",
      "+ format_filename=/code_execution/data/submission_format.csv\n",
      "+ (( i=0 ))\n",
      "+ (( i<=5 ))\n",
      "+ t=0\n",
      "+ '[' -f /code_execution/data/submission_format.csv ']'\n",
      "+ echo 'found /code_execution/data/submission_format.csv after 0 seconds; data is mounted'\n",
      "found /code_execution/data/submission_format.csv after 0 seconds; data is mounted\n",
      "+ break\n",
      "+ '[' '!' -f /code_execution/data/submission_format.csv ']'\n",
      "+ expected_filename=main.sh\n",
      "++ zip -sf ./submission/submission.zip\n",
      "+ submission_files='Archive contains:\n",
      "  MyFasterRCNN.py\n",
      "  __pycache__/\n",
      "  __pycache__/spacecraft_model.cpython-310.pyc\n",
      "  __pycache__/MyFasterRCNN.cpython-310.pyc\n",
      "  __pycache__/spacecraft_datamodule.cpython-310.pyc\n",
      "  frcnn10epochs.pt\n",
      "  lightning5.pt\n",
      "  main.py\n",
      "  main.sh\n",
      "  spacecraft_datamodule.py\n",
      "  spacecraft_model.py\n",
      "  spacecraft_utils.py\n",
      "  ssd_1epoch.pt\n",
      "Total 13 entries (162087071 bytes)'\n",
      "+ grep -q main.sh\n",
      "+ echo Unpacking submission\n",
      "Unpacking submission\n",
      "+ unzip ./submission/submission.zip -d ./workdir\n",
      "Archive:  ./submission/submission.zip\n",
      "  inflating: ./workdir/MyFasterRCNN.py  \n",
      "   creating: ./workdir/__pycache__/\n",
      "  inflating: ./workdir/__pycache__/spacecraft_model.cpython-310.pyc  \n",
      "  inflating: ./workdir/__pycache__/MyFasterRCNN.cpython-310.pyc  \n",
      "  inflating: ./workdir/__pycache__/spacecraft_datamodule.cpython-310.pyc  \n",
      "  inflating: ./workdir/frcnn10epochs.pt  \n",
      "  inflating: ./workdir/lightning5.pt  \n",
      "  inflating: ./workdir/main.py       \n",
      "  inflating: ./workdir/main.sh       \n",
      "  inflating: ./workdir/spacecraft_datamodule.py  \n",
      "  inflating: ./workdir/spacecraft_model.py  \n",
      " extracting: ./workdir/spacecraft_utils.py  \n",
      "  inflating: ./workdir/ssd_1epoch.pt  \n",
      "+ echo Printing submission contents\n",
      "Printing submission contents\n",
      "+ find workdir\n",
      "workdir\n",
      "workdir/main.py\n",
      "workdir/MyFasterRCNN.py\n",
      "workdir/frcnn10epochs.pt\n",
      "workdir/ssd_1epoch.pt\n",
      "workdir/__pycache__\n",
      "workdir/__pycache__/spacecraft_model.cpython-310.pyc\n",
      "workdir/__pycache__/spacecraft_datamodule.cpython-310.pyc\n",
      "workdir/__pycache__/MyFasterRCNN.cpython-310.pyc\n",
      "workdir/lightning5.pt\n",
      "workdir/main.sh\n",
      "workdir/spacecraft_utils.py\n",
      "workdir/spacecraft_datamodule.py\n",
      "workdir/spacecraft_model.py\n",
      "+ pushd workdir\n",
      "/code_execution/workdir /code_execution\n",
      "+ sh main.sh\n",
      "2024-03-18 18:05:01.673 | INFO     | __main__:main:75 - using data dir: /code_execution/data\n",
      "2024-03-18 18:05:01.751 | INFO     | __main__:main:95 -   0%|          | 0/4801 [00:00<?, ?it/s]\n",
      "[W NNPACK.cpp:64] Could not initialize NNPACK! Reason: Unsupported hardware.\n",
      "2024-03-18 18:05:11.826 | INFO     | __main__:main:95 -   2%|▏         | 100/4801 [00:10<07:53,  9.93it/s]\n",
      "2024-03-18 18:05:21.486 | INFO     | __main__:main:95 -   4%|▍         | 199/4801 [00:19<07:23, 10.37it/s]\n",
      "2024-03-18 18:05:31.111 | INFO     | __main__:main:95 -   6%|▌         | 299/4801 [00:29<07:18, 10.27it/s]\n",
      "2024-03-18 18:05:40.751 | INFO     | __main__:main:95 -   8%|▊         | 399/4801 [00:38<07:02, 10.42it/s]\n",
      "2024-03-18 18:05:50.377 | INFO     | __main__:main:95 -  10%|█         | 500/4801 [00:48<06:56, 10.34it/s]\n",
      "2024-03-18 18:05:59.976 | INFO     | __main__:main:95 -  12%|█▏        | 600/4801 [00:58<06:46, 10.33it/s]\n",
      "2024-03-18 18:06:09.658 | INFO     | __main__:main:95 -  15%|█▍        | 700/4801 [01:07<06:56,  9.85it/s]\n",
      "2024-03-18 18:06:19.338 | INFO     | __main__:main:95 -  17%|█▋        | 800/4801 [01:17<06:26, 10.36it/s]\n",
      "2024-03-18 18:06:29.003 | INFO     | __main__:main:95 -  19%|█▊        | 899/4801 [01:27<06:18, 10.31it/s]\n",
      "2024-03-18 18:06:38.639 | INFO     | __main__:main:95 -  21%|██        | 1000/4801 [01:36<06:04, 10.42it/s]\n",
      "2024-03-18 18:06:48.275 | INFO     | __main__:main:95 -  23%|██▎       | 1099/4801 [01:46<05:53, 10.48it/s]\n",
      "2024-03-18 18:06:57.930 | INFO     | __main__:main:95 -  25%|██▍       | 1200/4801 [01:56<05:51, 10.26it/s]\n",
      "2024-03-18 18:07:07.562 | INFO     | __main__:main:95 -  27%|██▋       | 1299/4801 [02:05<05:34, 10.47it/s]\n",
      "2024-03-18 18:07:17.220 | INFO     | __main__:main:95 -  29%|██▉       | 1399/4801 [02:15<05:25, 10.46it/s]\n",
      "2024-03-18 18:07:26.867 | INFO     | __main__:main:95 -  31%|███       | 1500/4801 [02:25<05:20, 10.31it/s]\n",
      "2024-03-18 18:07:36.530 | INFO     | __main__:main:95 -  33%|███▎      | 1599/4801 [02:34<05:02, 10.57it/s]\n",
      "2024-03-18 18:07:46.156 | INFO     | __main__:main:95 -  35%|███▌      | 1699/4801 [02:44<05:00, 10.31it/s]\n",
      "2024-03-18 18:07:55.737 | INFO     | __main__:main:95 -  37%|███▋      | 1799/4801 [02:53<04:48, 10.40it/s]\n",
      "2024-03-18 18:08:05.437 | INFO     | __main__:main:95 -  40%|███▉      | 1900/4801 [03:03<04:42, 10.28it/s]\n",
      "2024-03-18 18:08:15.170 | INFO     | __main__:main:95 -  42%|████▏     | 1999/4801 [03:13<04:32, 10.30it/s]\n",
      "2024-03-18 18:08:24.775 | INFO     | __main__:main:95 -  44%|████▎     | 2100/4801 [03:23<04:18, 10.43it/s]\n",
      "2024-03-18 18:08:34.464 | INFO     | __main__:main:95 -  46%|████▌     | 2199/4801 [03:32<04:12, 10.29it/s]\n",
      "2024-03-18 18:08:44.152 | INFO     | __main__:main:95 -  48%|████▊     | 2299/4801 [03:42<04:00, 10.41it/s]\n",
      "2024-03-18 18:08:53.728 | INFO     | __main__:main:95 -  50%|████▉     | 2400/4801 [03:51<03:48, 10.49it/s]\n",
      "2024-03-18 18:09:03.353 | INFO     | __main__:main:95 -  52%|█████▏    | 2500/4801 [04:01<03:42, 10.35it/s]\n",
      "2024-03-18 18:09:13.017 | INFO     | __main__:main:95 -  54%|█████▍    | 2599/4801 [04:11<03:32, 10.35it/s]\n",
      "2024-03-18 18:09:22.622 | INFO     | __main__:main:95 -  56%|█████▌    | 2699/4801 [04:20<03:20, 10.46it/s]\n",
      "2024-03-18 18:09:32.245 | INFO     | __main__:main:95 -  58%|█████▊    | 2799/4801 [04:30<03:13, 10.33it/s]\n",
      "2024-03-18 18:09:41.906 | INFO     | __main__:main:95 -  60%|██████    | 2900/4801 [04:40<03:02, 10.40it/s]\n",
      "2024-03-18 18:09:51.543 | INFO     | __main__:main:95 -  62%|██████▏   | 2999/4801 [04:49<02:52, 10.46it/s]\n",
      "2024-03-18 18:10:01.257 | INFO     | __main__:main:95 -  65%|██████▍   | 3100/4801 [04:59<02:46, 10.24it/s]\n",
      "2024-03-18 18:10:11.651 | INFO     | __main__:main:95 -  67%|██████▋   | 3200/4801 [05:09<02:47,  9.58it/s]\n",
      "2024-03-18 18:10:21.653 | INFO     | __main__:main:95 -  69%|██████▊   | 3300/4801 [05:19<02:22, 10.55it/s]\n",
      "2024-03-18 18:10:31.264 | INFO     | __main__:main:95 -  71%|███████   | 3399/4801 [05:29<02:16, 10.29it/s]\n",
      "2024-03-18 18:10:41.047 | INFO     | __main__:main:95 -  73%|███████▎  | 3500/4801 [05:39<02:13,  9.72it/s]\n",
      "2024-03-18 18:10:51.283 | INFO     | __main__:main:95 -  75%|███████▍  | 3599/4801 [05:49<01:58, 10.16it/s]\n",
      "2024-03-18 18:11:01.129 | INFO     | __main__:main:95 -  77%|███████▋  | 3700/4801 [05:59<01:46, 10.34it/s]\n",
      "2024-03-18 18:11:10.941 | INFO     | __main__:main:95 -  79%|███████▉  | 3800/4801 [06:09<01:36, 10.32it/s]\n",
      "2024-03-18 18:11:20.583 | INFO     | __main__:main:95 -  81%|████████  | 3899/4801 [06:18<01:28, 10.23it/s]\n",
      "2024-03-18 18:11:30.403 | INFO     | __main__:main:95 -  83%|████████▎ | 3999/4801 [06:28<01:17, 10.34it/s]\n",
      "2024-03-18 18:11:40.003 | INFO     | __main__:main:95 -  85%|████████▌ | 4099/4801 [06:38<01:07, 10.42it/s]\n",
      "2024-03-18 18:11:49.678 | INFO     | __main__:main:95 -  87%|████████▋ | 4199/4801 [06:47<00:57, 10.41it/s]\n",
      "2024-03-18 18:11:59.424 | INFO     | __main__:main:95 -  90%|████████▉ | 4300/4801 [06:57<00:49, 10.03it/s]\n",
      "2024-03-18 18:12:09.433 | INFO     | __main__:main:95 -  92%|█████████▏| 4399/4801 [07:07<00:39, 10.17it/s]\n",
      "2024-03-18 18:12:19.564 | INFO     | __main__:main:95 -  94%|█████████▎| 4499/4801 [07:17<00:30,  9.95it/s]\n",
      "2024-03-18 18:12:29.600 | INFO     | __main__:main:95 -  96%|█████████▌| 4600/4801 [07:27<00:19, 10.43it/s]\n",
      "2024-03-18 18:12:39.346 | INFO     | __main__:main:95 -  98%|█████████▊| 4700/4801 [07:37<00:10, 10.04it/s]\n",
      "2024-03-18 18:12:49.115 | INFO     | __main__:main:95 - 100%|█████████▉| 4800/4801 [07:47<00:00, 10.28it/s]\n",
      "+ popd\n",
      "/code_execution\n",
      "+ pytest --no-header -vv tests/test_submission.py\n",
      "============================= test session starts ==============================\n",
      "collecting ... collected 2 items\n",
      "\n",
      "tests/test_submission.py::test_submission_exists PASSED                  [ 50%]\n",
      "tests/test_submission.py::test_submission_matches_submission_format PASSED [100%]\n",
      "\n",
      "============================== 2 passed in 0.95s ===============================\n",
      "+ exit_code=0\n",
      "+ cp /code_execution/submission/log.txt /tmp/log\n",
      "+ exit 0\n"
     ]
    }
   ],
   "source": [
    "! cd {PROJ_DIRECTORY} && make test-submission"
   ]
  },
  {
   "cell_type": "code",
   "execution_count": null,
   "metadata": {},
   "outputs": [],
   "source": []
  }
 ],
 "metadata": {
  "kernelspec": {
   "display_name": "spacecrafts-01zDKSDz-python",
   "language": "python",
   "name": "python3"
  },
  "language_info": {
   "codemirror_mode": {
    "name": "ipython",
    "version": 3
   },
   "file_extension": ".py",
   "mimetype": "text/x-python",
   "name": "python",
   "nbconvert_exporter": "python",
   "pygments_lexer": "ipython3",
   "version": "3.10.13"
  }
 },
 "nbformat": 4,
 "nbformat_minor": 2
}
